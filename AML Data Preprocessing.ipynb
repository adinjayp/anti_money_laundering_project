{
 "cells": [
  {
   "cell_type": "code",
   "execution_count": 1,
   "id": "50db9366",
   "metadata": {},
   "outputs": [
    {
     "data": {
      "text/html": [
       "<style type='text/css'>\n",
       ".datatable table.frame { margin-bottom: 0; }\n",
       ".datatable table.frame thead { border-bottom: none; }\n",
       ".datatable table.frame tr.coltypes td {  color: #FFFFFF;  line-height: 6px;  padding: 0 0.5em;}\n",
       ".datatable .bool    { background: #DDDD99; }\n",
       ".datatable .object  { background: #565656; }\n",
       ".datatable .int     { background: #5D9E5D; }\n",
       ".datatable .float   { background: #4040CC; }\n",
       ".datatable .str     { background: #CC4040; }\n",
       ".datatable .time    { background: #40CC40; }\n",
       ".datatable .row_index {  background: var(--jp-border-color3);  border-right: 1px solid var(--jp-border-color0);  color: var(--jp-ui-font-color3);  font-size: 9px;}\n",
       ".datatable .frame tbody td { text-align: left; }\n",
       ".datatable .frame tr.coltypes .row_index {  background: var(--jp-border-color0);}\n",
       ".datatable th:nth-child(2) { padding-left: 12px; }\n",
       ".datatable .hellipsis {  color: var(--jp-cell-editor-border-color);}\n",
       ".datatable .vellipsis {  background: var(--jp-layout-color0);  color: var(--jp-cell-editor-border-color);}\n",
       ".datatable .na {  color: var(--jp-cell-editor-border-color);  font-size: 80%;}\n",
       ".datatable .sp {  opacity: 0.25;}\n",
       ".datatable .footer { font-size: 9px; }\n",
       ".datatable .frame_dimensions {  background: var(--jp-border-color3);  border-top: 1px solid var(--jp-border-color0);  color: var(--jp-ui-font-color3);  display: inline-block;  opacity: 0.6;  padding: 1px 10px 1px 5px;}\n",
       "</style>\n"
      ],
      "text/plain": [
       "<IPython.core.display.HTML object>"
      ]
     },
     "metadata": {},
     "output_type": "display_data"
    },
    {
     "name": "stderr",
     "output_type": "stream",
     "text": [
      "DatatableWarning: Duplicate column name found, and was assigned a unique name: 'Account' -> 'Account.0'\n"
     ]
    }
   ],
   "source": [
    "import numpy as np\n",
    "import datatable as dt\n",
    "from datetime import datetime\n",
    "from datatable import f, join, sort\n",
    "import sys\n",
    "import os\n",
    "\n",
    "output_path = \"aml_preprocessed_train_data.csv\"\n",
    "\n",
    "raw_data = dt.fread('HI-Small_Trans.csv', columns=dt.str32)\n",
    "\n",
    "currency_dict = {}\n",
    "payment_format_dict = {}\n",
    "bank_account_dict = {}\n",
    "account_dict = {}\n",
    "\n",
    "def get_dict_value(name, collection):\n",
    "    if name in collection:\n",
    "        value = collection[name]\n",
    "    else:\n",
    "        value = len(collection)\n",
    "        collection[name] = value\n",
    "    return value\n",
    "\n",
    "header = \"EdgeID,from_id,to_id,Timestamp,\\\n",
    "Amount Sent,Sent Currency,Amount Received,Received Currency,\\\n",
    "Payment Format,Is Laundering\\n\"\n",
    "\n",
    "first_timestamp = -1\n",
    "\n",
    "with open(output_path, 'w') as writer:\n",
    "    writer.write(header)\n",
    "    for i in range(raw_data.nrows):\n",
    "        datetime_object = datetime.strptime(raw_data[i, \"Timestamp\"], '%Y/%m/%d %H:%M')\n",
    "        timestamp = datetime_object.timestamp()\n",
    "        day = datetime_object.day\n",
    "        month = datetime_object.month\n",
    "        year = datetime_object.year\n",
    "\n",
    "        if first_timestamp == -1:\n",
    "            start_time = datetime(year, month, day)\n",
    "            first_timestamp = start_time.timestamp() - 10\n",
    "\n",
    "        timestamp = timestamp - first_timestamp\n",
    "\n",
    "        cur1 = get_dict_value(raw_data[i, \"Receiving Currency\"], currency_dict)\n",
    "        cur2 = get_dict_value(raw_data[i, \"Payment Currency\"], currency_dict)\n",
    "\n",
    "        fmt = get_dict_value(raw_data[i, \"Payment Format\"], payment_format_dict)\n",
    "\n",
    "        from_acc_id_str = raw_data[i, \"From Bank\"] + raw_data[i, 2]\n",
    "        from_id = get_dict_value(from_acc_id_str, account_dict)\n",
    "\n",
    "        to_acc_id_str = raw_data[i, \"To Bank\"] + raw_data[i, 4]\n",
    "        to_id = get_dict_value(to_acc_id_str, account_dict)\n",
    "\n",
    "        amount_received_orig = float(raw_data[i, \"Amount Received\"])\n",
    "        amount_paid_orig = float(raw_data[i, \"Amount Paid\"])\n",
    "\n",
    "        isl = int(raw_data[i, \"Is Laundering\"])\n",
    "\n",
    "        line = '%d,%d,%d,%d,%f,%d,%f,%d,%d,%d\\n' % \\\n",
    "               (i, from_id, to_id, timestamp, amount_paid_orig, cur2, amount_received_orig, cur1, fmt, isl)\n",
    "\n",
    "        writer.write(line)\n",
    "\n",
    "formatted_data = dt.fread(output_path)\n",
    "formatted_data = formatted_data[:, :, sort(3)]\n",
    "\n",
    "formatted_data.to_csv(output_path)"
   ]
  },
  {
   "cell_type": "code",
   "execution_count": 2,
   "id": "315f1349",
   "metadata": {},
   "outputs": [],
   "source": [
    "import networkx as nx\n",
    "import pandas as pd\n",
    "import numpy as np\n",
    "from sklearn.model_selection import train_test_split\n",
    "from sklearn.ensemble import RandomForestClassifier\n",
    "from sklearn.metrics import accuracy_score, classification_report\n",
    "from sklearn.preprocessing import StandardScaler\n",
    "\n",
    "# Step 1: Create a Directed Graph Network\n",
    "# Assuming you have a pandas DataFrame 'transactions_df' with columns: \n",
    "# 'from_acc', 'to_acc', 'amount', 'currency', 'timestamp', and 'label'\n",
    "\n",
    "transactions_df = pd.read_csv(output_path)\n",
    "\n",
    "G = nx.DiGraph()\n",
    "\n",
    "for index, row in transactions_df.iterrows():\n",
    "    G.add_edge(row['from_id'], row['to_id'], timestamp = row['Timestamp'], amount_sent=row['Amount Sent'], \n",
    "               amount_Received=['Amount Received'], received_currency=row['Received Currency'], \n",
    "               payment_format=row['Payment Format'])"
   ]
  },
  {
   "cell_type": "code",
   "execution_count": 5,
   "id": "ae7c920f",
   "metadata": {},
   "outputs": [],
   "source": [
    "import warnings\n",
    "warnings.filterwarnings(\"ignore\", message=\"The frame.append method is deprecated and will be removed from pandas in a future version. Use pandas.concat instead.\", category=FutureWarning)"
   ]
  },
  {
   "cell_type": "code",
   "execution_count": null,
   "id": "298ce4b3",
   "metadata": {},
   "outputs": [
    {
     "name": "stderr",
     "output_type": "stream",
     "text": [
      "438it [01:54,  3.80it/s]"
     ]
    }
   ],
   "source": [
    "from tqdm import tqdm\n",
    "# Step 2: Extract Graph Features\n",
    "# Feature Extraction function\n",
    "def extract_features(from_id, to_id):\n",
    "    features = {}\n",
    "    # Degree of 'from_acc' and 'to_acc'\n",
    "    features['From Degree'] = G.degree[from_id]\n",
    "    features['To Degree'] = G.degree[to_id]\n",
    "    # Betweenness Centrality\n",
    "    #features['From betweenness_centrality'] = nx.betweenness_centrality(G)[from_id]\n",
    "    #features['To betweenness_centrality'] = nx.betweenness_centrality(G)[from_id]\n",
    "    # Closeness Centrality\n",
    "    #features['From closeness_centrality'] = nx.closeness_centrality(G)[from_id]\n",
    "    #features['To closeness_centrality'] = nx.closeness_centrality(G)[to_id]\n",
    "    # Eigenvector Centrality\n",
    "    #features['From eigenvector_centrality'] = nx.eigenvector_centrality(G)[from_id]\n",
    "    #features['To eigenvector_centrality'] = nx.eigenvector_centrality(G)[to_id]\n",
    "    # PageRank\n",
    "    #features['From pagerank'] = nx.pagerank(G)[from_id]\n",
    "    #features['To pagerank'] = nx.pagerank(G)[to_id]\n",
    "    # Clustering Coefficient\n",
    "    features['From clustering_coefficient'] = nx.clustering(G, from_id)\n",
    "    features['To clustering_coefficient'] = nx.clustering(G, from_id)\n",
    "    # Eccentricity\n",
    "    #features['From eccentricity'] = nx.eccentricity(G, v=from_id)\n",
    "    #features['To eccentricity'] = nx.eccentricity(G, v=to_id)\n",
    "    # Degree Centrality\n",
    "    features['From degree_centrality'] = nx.degree_centrality(G)[from_id]\n",
    "    features['To degree_centrality'] = nx.degree_centrality(G)[to_id]\n",
    "    return features\n",
    "\n",
    "# Create a DataFrame to store features for each transaction\n",
    "transaction_features = pd.DataFrame()\n",
    "\n",
    "# Iterate through each transaction and extract features\n",
    "for index, row in tqdm(transactions_df.iterrows()):\n",
    "    features = extract_features(row['from_id'], row['to_id'])\n",
    "    transaction_features = transaction_features.append(features, ignore_index=True)\n",
    "\n",
    "# Concatenate the original DataFrame with the extracted features DataFrame\n",
    "transactions_df_with_features = pd.concat([transactions_df, transaction_features], axis=1)"
   ]
  },
  {
   "cell_type": "code",
   "execution_count": null,
   "id": "aed89dca",
   "metadata": {},
   "outputs": [],
   "source": [
    "# Extract features and labels\n",
    "X = transactions_df_with_features.drop(columns=['from_id', 'to_id', 'Is Laundering'])\n",
    "y = transactions_df_with_features['Is Laundering']\n",
    "\n",
    "# Split data into train and test sets\n",
    "X_train, X_test, y_train, y_test = train_test_split(X, y, test_size=0.2, random_state=42, , stratify=y)"
   ]
  },
  {
   "cell_type": "code",
   "execution_count": null,
   "id": "7da1e206",
   "metadata": {},
   "outputs": [],
   "source": [
    "# Initialize and train a Random Forest Classifier\n",
    "clf = RandomForestClassifier()\n",
    "clf.fit(X_train, y_train)\n",
    "\n",
    "# Step 5: Model Evaluation\n",
    "# Predict on the test set\n",
    "y_pred = clf.predict(X_test)\n",
    "\n",
    "# Evaluate the model\n",
    "accuracy = accuracy_score(y_test, y_pred)\n",
    "print(\"Accuracy:\", accuracy)\n",
    "print(\"Classification Report:\")\n",
    "print(classification_report(y_test, y_pred))\n",
    "\n",
    "# Step 6: Iterate and Improve\n",
    "# Iterate on feature engineering, model architecture, and hyperparameters as needed\n"
   ]
  }
 ],
 "metadata": {
  "kernelspec": {
   "display_name": "Python 3",
   "language": "python",
   "name": "python3"
  },
  "language_info": {
   "codemirror_mode": {
    "name": "ipython",
    "version": 3
   },
   "file_extension": ".py",
   "mimetype": "text/x-python",
   "name": "python",
   "nbconvert_exporter": "python",
   "pygments_lexer": "ipython3",
   "version": "3.9.16"
  }
 },
 "nbformat": 4,
 "nbformat_minor": 5
}
